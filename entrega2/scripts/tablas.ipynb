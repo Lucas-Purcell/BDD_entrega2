{
 "cells": [
  {
   "cell_type": "code",
   "execution_count": null,
   "metadata": {},
   "outputs": [],
   "source": [
    "import psycopg2\n",
    "from psycopg2 import sql\n",
    "from psycopg2 import Error\n",
    "\n",
    "DB_HOST = 'pavlov.ing.puc.cl'\n",
    "DB_PORT = '5432'\n",
    "DB_USER = 'grupo8'\n",
    "DB_PASSWORD = 'bulla8'"
   ]
  },
  {
   "cell_type": "code",
   "execution_count": null,
   "metadata": {},
   "outputs": [],
   "source": [
    "conn = None\n",
    "cursor = None\n",
    "\n",
    "try:\n",
    "    # Conexión con la base de datos\n",
    "    conn = psycopg2.connect(\n",
    "        user=DB_USER,\n",
    "        password=DB_PASSWORD,\n",
    "        host=DB_HOST,\n",
    "        port=DB_PORT\n",
    "    )\n",
    "    # Crear un cursor para ejecutar consultas\n",
    "    cursor = conn.cursor()\n",
    "except (Exception, Error) as error:\n",
    "    print(\"Error loading data:\", error)\n",
    "finally:\n",
    "    if cursor:\n",
    "        cursor.close()\n",
    "    if conn:\n",
    "        conn.close()"
   ]
  },
  {
   "cell_type": "markdown",
   "metadata": {},
   "source": [
    "# Dudas CREATE TABLE\n",
    "Restaurant\n",
    "estilo text o varchar\n",
    "sucursal text o varchar\n",
    "dirección agregar formato calle numero comuna?\n",
    "\n",
    "Plato\n",
    "largo descripcion?\n",
    "formato restriccion\n",
    "ingredientes largo?\n",
    "porciones syntaxis?\n",
    "tiempo syntaxis?\n",
    "\n"
   ]
  },
  {
   "cell_type": "code",
   "execution_count": null,
   "metadata": {},
   "outputs": [],
   "source": [
    "\"\"\"\n",
    "CREATE TABLE Restaurant (\n",
    "    id SERIAL PRIMARY KEY,\n",
    "    nombre VARCHAR(30) NOT NULL,\n",
    "    vigente BOOLEAN NOT NULL,\n",
    "    estilo TEXT,\n",
    "    repartomin INT,\n",
    "    sucursal TEXT,\n",
    "    dirección VARCHAR(30) NOT NULL,\n",
    "    teléfono VARCHAR(12) NOT NULL CHECK (teléfono ~ '^56\\d{9}$'),\n",
    "    área VARCHAR(100)\n",
    ");\n",
    "\"\"\"\n",
    "\n",
    "\"\"\"\n",
    "CREATE TABLE Plato (\n",
    "    id SERIAL PRIMARY KEY,\n",
    "    restaurant_id INT NOT NULL,\n",
    "    nombre VARCHAR(30) NOT NULL,\n",
    "    descripción VARCHAR(30) NOT NULL,\n",
    "    disponibilidad BOOLEAN NOT NULL,\n",
    "    estilo VARCHAR(30) NOT NULL,\n",
    "    restricción VARCHAR(30) NOT NULL,\n",
    "    ingredientes TEXT,\n",
    "    porciones INT DEFAULT 1 CHECK (porciones >= 1),\n",
    "    precio INT NOT NULL,\n",
    "    tiempo INT DEFAULT 5 NOT NULL CHECK (tiempo BETWEEN 1 AND 60),\n",
    "    CONSTRAINT fk_restaurant\n",
    "        FOREIGN KEY(restaurant_id) \n",
    "\t    REFERENCES Restaurant(id)\n",
    ");"
   ]
  }
 ],
 "metadata": {
  "language_info": {
   "name": "python"
  }
 },
 "nbformat": 4,
 "nbformat_minor": 2
}
