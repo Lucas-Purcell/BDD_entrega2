{
 "cells": [
  {
   "cell_type": "code",
   "execution_count": 1,
   "metadata": {},
   "outputs": [],
   "source": [
    "import psycopg2\n",
    "from psycopg2 import sql\n",
    "from psycopg2 import Error"
   ]
  },
  {
   "cell_type": "code",
   "execution_count": 7,
   "metadata": {},
   "outputs": [],
   "source": [
    "DB_HOST = 'pavlov.ing.puc.cl'\n",
    "DB_PORT = '5432'\n",
    "DB_USER = 'grupo8'\n",
    "DB_PASSWORD = 'bulla8'\n",
    "DB_NAME = 'grupo8e2'"
   ]
  },
  {
   "cell_type": "code",
   "execution_count": 8,
   "metadata": {},
   "outputs": [],
   "source": [
    "conn = psycopg2.connect(\n",
    "    user=DB_USER,\n",
    "    password=DB_PASSWORD,\n",
    "    host=DB_HOST,\n",
    "    port=DB_PORT,\n",
    "    dbname=DB_NAME\n",
    ")\n",
    "# Crear un cursor para ejecutar consultas\n",
    "cursor = conn.cursor()"
   ]
  },
  {
   "cell_type": "code",
   "execution_count": 10,
   "metadata": {},
   "outputs": [
    {
     "name": "stdout",
     "output_type": "stream",
     "text": [
      "Error loading data: invalid dsn: invalid connection option \"name\"\n",
      "\n"
     ]
    }
   ],
   "source": [
    "def cargar_datos(csv_path, table_name):\n",
    "    conn = None\n",
    "    cursor = None\n",
    "    \n",
    "    try:\n",
    "        # Conexión con la base de datos\n",
    "        conn = psycopg2.connect(\n",
    "            user=DB_USER,\n",
    "            password=DB_PASSWORD,\n",
    "            host=DB_HOST,\n",
    "            port=DB_PORT,\n",
    "            name=DB_NAME\n",
    "        )\n",
    "        # Crear un cursor para ejecutar consultas\n",
    "        cursor = conn.cursor()\n",
    "        \n",
    "        # Abrir CSV\n",
    "        with open('../CSV/pedidos.csv', 'r', encoding = 'ISO-8859-1') as file:\n",
    "            data = file.read().split('\\n')\n",
    "            columns = data[0]\n",
    "            df = []\n",
    "            for line in data[1:]:\n",
    "                df.append(line.split(';'))\n",
    "        \n",
    "        # Insertar datos en la tabla\n",
    "        insert_query = sql.SQL(\"INSERT INTO {} ({}) VALUES ({})\").format(\n",
    "            sql.Identifier('Plato'),\n",
    "            sql.SQL(', ').join(map(sql.Identifier, columns)),\n",
    "            sql.SQL(', ').join(map(sql.Placeholder, columns))\n",
    "        )\n",
    "        # Iterar sobre las filas del DataFrame y ejecutar la consulta de inserción\n",
    "        for row in df(index=False):\n",
    "            try:\n",
    "                data = [value for value in row]\n",
    "                cursor.execute(insert_query, data)\n",
    "            except:\n",
    "                print('f')\n",
    "        # Confirmar la transacción\n",
    "        conn.commit()\n",
    "        print(\"Data loaded successfully in table {}.\".format(table_name))\n",
    "    except (Exception, Error) as error:\n",
    "        print(\"Error loading data:\", error)\n",
    "    finally:\n",
    "        if cursor:\n",
    "            cursor.close()\n",
    "        if conn:\n",
    "            conn.close()\n",
    "\n",
    "if __name__ == \"__main__\":\n",
    "    # Ruta al archivo CSV \n",
    "    ruta_csv = '../CSV/pedidos.csv'\n",
    "\n",
    "    # Nombre de la tabla PostgreSQL donde se insertarán los datos\n",
    "    tabla_destino = 'pedidos'\n",
    "\n",
    "    cargar_datos(ruta_csv, tabla_destino)"
   ]
  },
  {
   "cell_type": "code",
   "execution_count": null,
   "metadata": {},
   "outputs": [],
   "source": []
  }
 ],
 "metadata": {
  "kernelspec": {
   "display_name": "Python 3",
   "language": "python",
   "name": "python3"
  },
  "language_info": {
   "codemirror_mode": {
    "name": "ipython",
    "version": 3
   },
   "file_extension": ".py",
   "mimetype": "text/x-python",
   "name": "python",
   "nbconvert_exporter": "python",
   "pygments_lexer": "ipython3",
   "version": "3.10.11"
  }
 },
 "nbformat": 4,
 "nbformat_minor": 2
}
