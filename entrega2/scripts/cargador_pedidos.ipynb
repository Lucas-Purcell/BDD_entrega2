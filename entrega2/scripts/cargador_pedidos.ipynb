{
 "cells": [
  {
   "cell_type": "code",
   "execution_count": 1,
   "metadata": {},
   "outputs": [],
   "source": [
    "import psycopg2\n",
    "from psycopg2 import sql\n",
    "from psycopg2 import Error"
   ]
  },
  {
   "cell_type": "code",
   "execution_count": null,
   "metadata": {},
   "outputs": [],
   "source": [
    "DB_HOST = 'pavlov.ing.puc.cl'\n",
    "DB_PORT = '22'\n",
    "DB_USER = 'grupo8'\n",
    "DB_PASSWORD = 'bulla8'"
   ]
  },
  {
   "cell_type": "code",
   "execution_count": 37,
   "metadata": {},
   "outputs": [
    {
     "ename": "SyntaxError",
     "evalue": "invalid syntax (1081183716.py, line 34)",
     "output_type": "error",
     "traceback": [
      "\u001b[0;36m  Cell \u001b[0;32mIn[37], line 34\u001b[0;36m\u001b[0m\n\u001b[0;31m    ) and type(row[0]) != int:\u001b[0m\n\u001b[0m    ^\u001b[0m\n\u001b[0;31mSyntaxError\u001b[0m\u001b[0;31m:\u001b[0m invalid syntax\n"
     ]
    }
   ],
   "source": [
    "def cargar_datos(csv_path, table_name):\n",
    "    conn = None\n",
    "    cursor = None\n",
    "    \n",
    "    try:\n",
    "        # Conexión con la base de datos\n",
    "        conn = psycopg2.connect(\n",
    "            user=DB_USER,\n",
    "            password=DB_PASSWORD,\n",
    "            host=DB_HOST,\n",
    "            port=DB_PORT\n",
    "        )\n",
    "        # Crear un cursor para ejecutar consultas\n",
    "        cursor = conn.cursor()\n",
    "        \n",
    "        # Abrir CSV\n",
    "        with open('../CSV/pedidos.csv', 'r', encoding = 'ISO-8859-1') as file:\n",
    "            data = file.read().split('\\n')\n",
    "            columns = data[0]\n",
    "            df = []\n",
    "            for line in data[1:]:\n",
    "                df.append(line.split(';'))\n",
    "        \n",
    "        # Insertar datos en la tabla\n",
    "        insert_query = sql.SQL(\"INSERT INTO {} ({}) VALUES ({})\").format(\n",
    "            sql.Identifier(table_name),\n",
    "            sql.SQL(', ').join(map(sql.Identifier, columns)),\n",
    "            sql.SQL(', ').join(map(sql.Placeholder, columns))\n",
    "        )\n",
    "        # Iterar sobre las filas del DataFrame y ejecutar la consulta de inserción\n",
    "        for row in df(index=False):\n",
    "            platos = all(isinstance(i.isdigit(), int) for i in row[6].split('  '))\n",
    "            if not (type(row[1]) == str and len(row[1]) <= 30 and \n",
    "                    type(row[2]) == str and len(row[2]) <= 30 and \n",
    "                    type(row[3]) == str and \n",
    "                    type(row[4]) == str and len(row[4]) <= 30 and \n",
    "                    type(row[5]) == str and len(row[5]) <= 30 and \n",
    "                    type(row[6]) == str and platos and\n",
    "                    \n",
    "                    ) and type(row[0]) != int:\n",
    "                print(\"Error: invalid values in CSV in row {}\".format(row))\n",
    "            else:\n",
    "                data = [value for value in row]\n",
    "                cursor.execute(insert_query, data)\n",
    "        # Confirmar la transacción\n",
    "        conn.commit()\n",
    "        print(\"Data loaded successfully in table {}.\".format(table_name))\n",
    "    except (Exception, Error) as error:\n",
    "        print(\"Error loading data:\", error)\n",
    "    finally:\n",
    "        if cursor:\n",
    "            cursor.close()\n",
    "        if conn:\n",
    "            conn.close()\n",
    "\n",
    "if __name__ == \"__main__\":\n",
    "    # Ruta al archivo CSV \n",
    "    ruta_csv = '../CSV/pedidos.csv'\n",
    "\n",
    "    # Nombre de la tabla PostgreSQL donde se insertarán los datos\n",
    "    tabla_destino = 'pedidos'\n",
    "\n",
    "    cargar_datos_desde_csv(ruta_csv, tabla_destino)"
   ]
  }
 ],
 "metadata": {
  "kernelspec": {
   "display_name": "Python 3",
   "language": "python",
   "name": "python3"
  },
  "language_info": {
   "codemirror_mode": {
    "name": "ipython",
    "version": 3
   },
   "file_extension": ".py",
   "mimetype": "text/x-python",
   "name": "python",
   "nbconvert_exporter": "python",
   "pygments_lexer": "ipython3",
   "version": "3.10.11"
  }
 },
 "nbformat": 4,
 "nbformat_minor": 2
}
