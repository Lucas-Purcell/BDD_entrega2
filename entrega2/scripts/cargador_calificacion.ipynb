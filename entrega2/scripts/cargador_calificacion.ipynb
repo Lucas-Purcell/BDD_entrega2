{
 "cells": [
  {
   "cell_type": "code",
   "execution_count": null,
   "metadata": {},
   "outputs": [],
   "source": [
    "import psycopg2\n",
    "from psycopg2 import sql\n",
    "from psycopg2 import Error"
   ]
  },
  {
   "cell_type": "code",
   "execution_count": null,
   "metadata": {},
   "outputs": [],
   "source": [
    "DB_HOST = 'pavlov.ing.puc.cl'\n",
    "DB_PORT = '22'\n",
    "DB_USER = 'grupo8'\n",
    "DB_PASSWORD = 'bulla8'"
   ]
  },
  {
   "cell_type": "code",
   "execution_count": null,
   "metadata": {},
   "outputs": [],
   "source": [
    "def cargar_datos(csv_path, table_name):\n",
    "    conn = None\n",
    "    cursor = None\n",
    "    \n",
    "    try:\n",
    "        # Conexión con la base de datos\n",
    "        conn = psycopg2.connect(\n",
    "            user=DB_USER,\n",
    "            password=DB_PASSWORD,\n",
    "            host=DB_HOST,\n",
    "            port=DB_PORT\n",
    "        )\n",
    "        # Crear un cursor para ejecutar consultas\n",
    "        cursor = conn.cursor()\n",
    "\n",
    "        # Abrir CSV\n",
    "        with open('../CSV/pedidos.csv', 'r', encoding = 'ISO-8859-1') as file:\n",
    "            data = file.read().split('\\n')\n",
    "            columns = data[0]\n",
    "            df = []\n",
    "            for line in data[1:]:\n",
    "                df.append(line.split(';'))\n",
    "        \n",
    "        # Insertar datos en la tabla\n",
    "        insert_query = sql.SQL(\"INSERT INTO {} ({}) VALUES ({})\").format(\n",
    "            sql.Identifier(table_name),\n",
    "            sql.SQL(', ').join(map(sql.Identifier, columns)),\n",
    "            sql.SQL(', ').join(map(sql.Placeholder, columns))\n",
    "        )\n",
    "        # Iterar sobre las filas del DataFrame y ejecutar la consulta de inserción\n",
    "        for row in df:\n",
    "            if not (1 <= row[1] <= 5 and 1 <= row[2] <= 5) and type(row[0]) != int:\n",
    "                print(\"Error: invalid values in CSV in row {}\".format(row))\n",
    "            else:\n",
    "                data = [value for value in row]\n",
    "                cursor.execute(insert_query, data)\n",
    "        # Confirmar la transacción\n",
    "        conn.commit()\n",
    "        print(\"Data loaded successfully in table {}.\".format(table_name))\n",
    "    except (Exception, Error) as error:\n",
    "        print(\"Error loading data:\", error)\n",
    "    finally:\n",
    "        if cursor:\n",
    "            cursor.close()\n",
    "        if conn:\n",
    "            conn.close()\n",
    "\n",
    "if __name__ == \"__main__\":\n",
    "    # Ruta al archivo CSV \n",
    "    ruta_csv = '../CSV/calificacion.csv'\n",
    "\n",
    "    # Nombre de la tabla PostgreSQL donde se insertarán los datos\n",
    "    tabla_destino = 'calificacion'\n",
    "\n",
    "    cargar_datos_desde_csv(ruta_csv, tabla_destino)"
   ]
  }
 ],
 "metadata": {
  "language_info": {
   "name": "python"
  }
 },
 "nbformat": 4,
 "nbformat_minor": 2
}
