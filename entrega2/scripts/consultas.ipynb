{
 "cells": [
  {
   "cell_type": "code",
<<<<<<< HEAD
<<<<<<< HEAD
<<<<<<< HEAD
   "execution_count": 1,
=======
   "execution_count": null,
>>>>>>> 5c9e5b8 (creacion Jupyter consultas)
=======
   "execution_count": 1,
>>>>>>> 17d5b96 (super avance cargadores)
=======
   "execution_count": 1,
>>>>>>> branch-lucas
   "metadata": {},
   "outputs": [],
   "source": [
    "import psycopg2\n",
    "from psycopg2 import sql\n",
    "from psycopg2 import Error"
   ]
  },
  {
   "cell_type": "code",
<<<<<<< HEAD
<<<<<<< HEAD
<<<<<<< HEAD
   "execution_count": 2,
=======
   "execution_count": null,
>>>>>>> 5c9e5b8 (creacion Jupyter consultas)
=======
   "execution_count": 2,
>>>>>>> 17d5b96 (super avance cargadores)
=======
   "execution_count": 2,
>>>>>>> branch-lucas
   "metadata": {},
   "outputs": [],
   "source": [
    "DB_HOST = 'pavlov.ing.puc.cl'\n",
    "DB_PORT = '22'\n",
    "DB_USER = 'grupo8'\n",
<<<<<<< HEAD
<<<<<<< HEAD
<<<<<<< HEAD
    "DB_PASSWORD = 'bulla8'\n",
    "DB_NAME = 'grupo8e2'"
=======
    "DB_PASSWORD = 'bulla8'"
>>>>>>> 5c9e5b8 (creacion Jupyter consultas)
=======
    "DB_PASSWORD = 'bulla8'\n",
    "DB_NAME = 'grupo8e2'"
>>>>>>> 2a668bb (10 consultas)
=======
    "DB_PASSWORD = 'bulla8'\n",
    "DB_NAME = 'grupo8e2'"
>>>>>>> branch-lucas
   ]
  },
  {
   "cell_type": "code",
   "execution_count": null,
   "metadata": {},
   "outputs": [],
   "source": [
    "#Muestre todos los restaurantes que ofrezcan un plato específico (string) ingresado y que esté disponible\n",
    "def consulta1(): \n",
<<<<<<< HEAD
<<<<<<< HEAD
<<<<<<< HEAD
=======
>>>>>>> 8b3dea8 (avance consultas)
=======
>>>>>>> branch-lucas
    "    #query devuelve nombre y sucursal de los restaurantes que ofrecen el plato ingresado\n",
    "    query = \"SELECT Restaurant.nombre, Restaurant.sucursal \\\n",
    "        FROM Restaurant, Plato \\\n",
    "        WHERE Plato.nombre = %(nombre)s AND Plato.disponibilidad = TRUE\"\n",
    "    return query\n",
    "\n",
    "#Muestre todos los pedidos de un usuario específico ingresado (email string) y su gasto mensual (solo los pedidos concretados)\n",
    "def consulta2():\n",
    "    query = \"SELECT * \\\n",
    "        FROM Pedido, Usuario \\\n",
    "        WHERE Usuario.email = %(email)s \\\n",
    "        AND Pedido.usuario_id = Usuario.id\" \n",
    "    \n",
<<<<<<< HEAD
<<<<<<< HEAD
<<<<<<< HEAD
=======
>>>>>>> 2a668bb (10 consultas)
=======
>>>>>>> branch-lucas
    "    query1 = \" SELECT Usuario.email,  (SUM(Empresa.precio_mensual) + SUM(Empresa.precio_anual / 12) + gasto_mensual_sin_suscripcion.gasto_mensual) as gasto_mensual \\\n",
    "            FROM Usuario, Suscripcion, Empresa, (SELECT Usuario.email as email_usuario, (SUM(gasto_comida.precio_comida) + SUM(gasto_comida.precio_despacho)) as gasto_mensual\\\n",
    "                                        FROM Usuario, Suscripcion, Pedido \\\n",
    "                                        (SELECT Pedido.id as pedido_id, Pedido.usuario_id, Empresa.id as empresa_id, Empresa.precio_despacho, SUM(Plato.precio * Plato.cantidad) as precio_comida \\\n",
    "                                            FROM Pedido, ContenidoPedido, Plato, Empresa, Despacho\\\n",
    "                                            WHERE ContenidoPedido.pedido_id = Pedido.id \\\n",
    "                                            AND ContenidoPedido.plato_id = Plato.id \\\n",
    "                                            AND Despacho.empresa_id = Empresa.id \\\n",
    "                                            AND Despacho.pedido_id = Pedido.id \\\n",
    "                                            AND Pedido.estado = 'entregado a cliente' \\\n",
    "                                            AND Pedido.fecha BETWEEN %(fecha_inicio)s AND %(fecha_fin)s\\\n",
    "                                            GROUP BY Pedido.id, Pedido.usuario_id) as gasto_pedido_mes \\\n",
    "                                        WHERE Usuario.id = gasto_pedido.usuario_id \\\n",
    "                                        AND Pedido.id = gasto_pedido.pedido_id \\\n",
    "                                        AND Suscripcion.usuario_id = Usuario.id \\\n",
    "                                        AND Suscripcion.empresa_id NOT IN (SELECT empresa_id \\\n",
    "                                                                        FROM Suscripcion \\\n",
    "                                                                        WHERE Suscripcion.usuario_id = Usuario.id) \\\n",
    "                                                                        AND Suscripcion.estado = 'Vigente') \\\n",
    "                                        GROUP BY Usuario.email) as gasto_mensual_sin_suscripcion \\\n",
    "        WHERE gasto_mensual_sin_suscripcion.email_usuario = Usuario.email \\\n",
    "        AND Suscripcion.usuario_id = Usuario.id \\\n",
    "        AND Suscripcion.empresa_id = Empresa.id \\\n",
    "        AND Suscripcion.estado = 'Vigente' \\\n",
    "        AND Suscripcion.tipo = 'mensual' \\\n",
    "        GROUP BY Usuario.email\"\t\n",
<<<<<<< HEAD
<<<<<<< HEAD
    "\n",
    "    return query, query1\n",
=======
    "    query1 = \"SELECT * \\\n",
    "        FROM Pedido (Pedido, Usuario \\\n",
    "        WHERE Usuario.email = %(email)s \\\n",
    "        AND Pedido.usuario_id = Usuario.id\\\n",
    "        AND Pedido.estado = 'entregado a cliente' \\\n",
    "        ) as pedidos \\\n",
    "                \" \n",
    "        #falta el gasto mensual, tengo que pensar como hacerlo porque hay suscripciones\n",
    "\n",
    "    return query\n",
>>>>>>> 8b3dea8 (avance consultas)
=======
    "\n",
    "    return query, query1\n",
>>>>>>> 2a668bb (10 consultas)
=======
    "\n",
    "    return query, query1\n",
>>>>>>> branch-lucas
    "\n",
    "#Muestre todos pedidos concretados y cancelados y el valor total de ellos\n",
    "def consulta3():\n",
    "    query = \"SELECT * \\\n",
    "        FROM Pedido \\\n",
    "        WHERE Pedido.estado IN ('entregado a cliente', 'cliente cancela', 'delivery cancela', 'restaurante cancela')\"\n",
    "    #falta el valor total de los pedidos\n",
    "    return query\n",
    "\n",
    "#Dado un estilo de plato ingresado por el usuario (string) , muestre todas los platos con ese tipo, los restaurantes que las ofrecen y las opciones de delivery.\n",
    "\n",
    "def consulta4():\n",
    "    query = \"SELECT Plato.nombre, Res_em.nombre_rest, Res_em.sucursal, Res_em.nombre_emp \\\n",
    "        FROM Plato, (SELECT Restaurant.nombre, Restaurant.sucursal, Empresa.nombre \\\n",
    "                    FROM Restaurant, Empresa, Restaurant_empresa \\\n",
    "                    WHERE Restaurant.id = Restaurant_empresa.restaurant_id \\\n",
    "                    AND Empresa.id = Restaurant_empresa.empresa_id) as Res_em \\\n",
    "        WHERE Plato.estilo = %(estilo)s \\\n",
    "        AND Plato.restaurant_id = Res_em.id \\\n",
    "        AND Plato.disponibilidad = TRUE\"\n",
    "    return query\n",
    "\n",
    "#Dado un estilo de plato ingresado (string) por el usuario, muestre todas las platos que pertenezcan a ese estilo y sus restricciones\n",
    "def consulta5():\n",
    "    query = \"SELECT Restaurant.nombre, Restaturant.sucursal, Plato.nombre, Plato.restriccion \\\n",
    "        FROM Plato, Restaurant \\\n",
    "        WHERE Plato.estilo = %(estilo)s \\\n",
    "        AND Plato.restaurant_id = Restaurant.id \\\n",
    "        AND Plato.disponibilidad = TRUE\"\n",
    "    return query\n",
    "\n",
    "#Dado un cliente ingresado por el usuario (email string), muestre todas las restaurantes a las que tiene acceso con sus suscripciones.\n",
    "\n",
    "def consulta6():\n",
    "    query = \"SELECT Restaurant.nombre, Restaurant.sucursal, Empresa.nombre \\\n",
    "        FROM Restaurant, Empresa, Restaurant_empresa, Usuario, Suscripcion \\\n",
    "        WHERE Restaurant.id = Restaurant_empresa.restaurant_id \\\n",
    "        AND Empresa.id = Restaurant_empresa.empresa_id \\\n",
    "        AND Usuario.id = Suscripcion.usuario_id \\\n",
    "        AND Suscripcion.empresa_id = Empresa.id \\\n",
    "        AND Usuario.email = %(email)s\"\n",
    "    return query\n",
    "\n",
    "# Muestre la suma de dinero gastada por cada cliente en pedidos no incluidas en planes de suscripcion\n",
    "\n",
<<<<<<< HEAD
<<<<<<< HEAD
<<<<<<< HEAD
=======
>>>>>>> 2a668bb (10 consultas)
=======
>>>>>>> branch-lucas
    "def consulta7():\n",
    "    query = \"SELECT Usuario.email, (SUM(gasto_comida.precio_comida) + SUM(gasto_comida.precio_despacho)) as gasto_total\\\n",
    "        FROM Usuario, Suscripcion, Pedido \\\n",
    "        (SELECT Pedido.id as pedido_id, Pedido.usuario_id, Empresa.id as empresa_id, Empresa.precio_despacho, SUM(Plato.precio * Plato.cantidad) as precio_comida \\\n",
    "            FROM Pedido, ContenidoPedido, Plato, Empresa, Despacho\\\n",
    "            WHERE ContenidoPedido.pedido_id = Pedido.id \\\n",
    "            AND ContenidoPedido.plato_id = Plato.id \\\n",
    "            AND Despacho.empresa_id = Empresa.id \\\n",
    "            AND Despacho.pedido_id = Pedido.id \\\n",
    "            AND Pedido.estado = 'entregado a cliente' \\\n",
    "            GROUP BY Pedido.id, Pedido.usuario_id) as gasto_pedido \\\n",
    "        WHERE Usuario.id = gasto_pedido.usuario_id \\\n",
    "        AND Pedido.id = gasto_pedido.pedido_id \\\n",
    "        AND Suscripcion.usuario_id = Usuario.id \\\n",
    "        AND Suscripcion.empresa_id NOT IN (SELECT empresa_id \\\n",
    "                                        FROM Suscripcion \\\n",
    "                                        WHERE Suscripcion.usuario_id = Usuario.id \\\n",
    "                                        AND Suscripcion.estado = 'Vigente') \\\n",
    "        GROUP BY Usuario.email\"\n",
    "    return query\n",
<<<<<<< HEAD
<<<<<<< HEAD
=======
    "\n",
>>>>>>> 8b3dea8 (avance consultas)
=======
>>>>>>> 2a668bb (10 consultas)
=======
>>>>>>> branch-lucas
    "\n",
    "#Muestre todos los platos y los restaurantes que los ofrecen\n",
    "\n",
    "def consulta8():\n",
    "    query = \"SELECT Plato.nombre, Restaurant.nombre, Restaurant.sucursal \\\n",
    "        FROM Plato, Restaurant \\\n",
    "        WHERE Plato.restaurant_id = Restaurant.id \\\n",
    "        AND Plato.disponibilidad = TRUE\"\n",
    "    return query\n",
    "\n",
    "#Dado un numero (1-5) ingresado por el usuario, muestre todos las evaluaciones de Clientes, Delivery, Despachador superiores o iguales a  ́el\n",
    "\n",
<<<<<<< HEAD
<<<<<<< HEAD
<<<<<<< HEAD
=======
>>>>>>> 2a668bb (10 consultas)
=======
>>>>>>> branch-lucas
    "def consulta9(tipo: str):\n",
    "    query = \"SELECT Pedido.id, Pedido.evaluacion_cliente \\\n",
    "        FROM Pedido \\\n",
    "        WHERE Pedido.evaluacion_cliente >= %(numero)s\"\n",
    "    \n",
    "    query1 = \"SELECT Pedido.id, Pedido.evaluacion_servicio as evaluacion_delivery \\\n",
    "        FROM Pedido \\\n",
    "        WHERE Pedido.evaluacion_servicio >= %(numero)s\"\n",
    "    \n",
    "    query2 = \"SELECT Pedido.id, Pedido.evaluacion_servicio as evaluacion_despachador \\\n",
    "        FROM Pedido \\\n",
    "        WHERE Pedido.evaluacion_servicio >= %(numero)s\"\n",
    "\n",
    "    if tipo == 'cliente':\n",
    "        return query\n",
    "    elif tipo == 'delivery':\n",
    "        return query1\n",
    "    elif tipo == 'despachador':\n",
    "        return query2\n",
<<<<<<< HEAD
<<<<<<< HEAD
=======
>>>>>>> 8b3dea8 (avance consultas)
=======
>>>>>>> 2a668bb (10 consultas)
=======
>>>>>>> branch-lucas
    "\n",
    "#Dado una un alergeno ingresado por el usuario (string), muestre todos los platos que lo contengan en sus ingredientes (Ejemplo: maní)\n",
    "def consulta10():\n",
    "    query = \"SELECT Restaurant.nombre, Restaturant.sucursal, Plato.nombre \\\n",
    "        FROM Plato,  Restaurant \\\n",
    "        WHERE Plato.ingredientes LIKE %(alergeno)s \\\n",
    "        AND Plato.disponibilidad = TRUE \\\n",
    "        AND Plato.restaurant_id = Restaurant.id\"\n",
    "    return query"
<<<<<<< HEAD
<<<<<<< HEAD
=======
    "    query1 = \"SELECT Restaurant.nombre \\\n",
    "            FROM Restaurant, Plato \\\n",
    "            WHERE Plato.nombre = %(nombre)s AND Plato.disponibilidad = TRUE\"\n",
    "    return query1\n",
    "\n"
>>>>>>> 5c9e5b8 (creacion Jupyter consultas)
=======
>>>>>>> 8b3dea8 (avance consultas)
=======
>>>>>>> branch-lucas
   ]
  },
  {
   "cell_type": "code",
   "execution_count": null,
   "metadata": {},
   "outputs": [],
   "source": [
    "def consultas(numero_consulta, **kwargs):\n",
    "    conn = None\n",
    "    cursor = None\n",
    "    \n",
    "    try:\n",
    "        # Conexión con la base de datos\n",
    "        conn = psycopg2.connect(\n",
    "            user=DB_USER,\n",
    "            password=DB_PASSWORD,\n",
    "            host=DB_HOST,\n",
<<<<<<< HEAD
<<<<<<< HEAD
<<<<<<< HEAD
    "            port=DB_PORT,\n",
    "            dbname=DB_NAME\n",
=======
    "            port=DB_PORT\n",
>>>>>>> 5c9e5b8 (creacion Jupyter consultas)
=======
    "            port=DB_PORT,\n",
    "            dbname=DB_NAME\n",
>>>>>>> 2a668bb (10 consultas)
=======
    "            port=DB_PORT,\n",
    "            dbname=DB_NAME\n",
>>>>>>> branch-lucas
    "        )\n",
    "        # Crear un cursor para ejecutar consultas\n",
    "        cursor = conn.cursor()\n",
    "\n",
<<<<<<< HEAD
<<<<<<< HEAD
<<<<<<< HEAD
=======
    "        #consulta 1\n",
>>>>>>> 5c9e5b8 (creacion Jupyter consultas)
=======
>>>>>>> 2a668bb (10 consultas)
=======
>>>>>>> branch-lucas
    "        if numero_consulta == 1:\n",
    "            try:\n",
    "                query = consulta1()\n",
    "                nombre_plato = kwargs.get('nombre_plato')\n",
    "                cursor.execute(query, {'nombre': nombre_plato})\n",
    "                rows = cursor.fetchall()\n",
    "                print(rows)\n",
    "            except (Exception, Error) as error:\n",
    "                print(\"Error al ejecutar query:\", error)\n",
<<<<<<< HEAD
<<<<<<< HEAD
<<<<<<< HEAD
    "\n",
    "        if numero_consulta == 2:\n",
    "            try:\n",
    "                query, query1 = consulta2()\n",
    "                email = kwargs.get('email')\n",
    "                fecha_inicio = kwargs.get('fecha_inicio')\n",
    "                fecha_fin = kwargs.get('fecha_fin')\n",
    "                cursor.execute(query, {'email': email})\n",
    "                rows = cursor.fetchall()\n",
    "                print(rows)\n",
    "                cursor.execute(query1, {'fecha_inicio': fecha_inicio, 'fecha_fin': fecha_fin})\n",
    "                rows = cursor.fetchall()\n",
    "                print(rows)\n",
    "            except (Exception, Error) as error:\n",
    "                print(\"Error al ejecutar query:\", error)\n",
=======
>>>>>>> 8b3dea8 (avance consultas)
=======
>>>>>>> branch-lucas
    "\n",
    "        if numero_consulta == 2:\n",
    "            try:\n",
    "                query, query1 = consulta2()\n",
    "                email = kwargs.get('email')\n",
    "                fecha_inicio = kwargs.get('fecha_inicio')\n",
    "                fecha_fin = kwargs.get('fecha_fin')\n",
    "                cursor.execute(query, {'email': email})\n",
    "                rows = cursor.fetchall()\n",
    "                print(rows)\n",
    "                cursor.execute(query1, {'fecha_inicio': fecha_inicio, 'fecha_fin': fecha_fin})\n",
    "                rows = cursor.fetchall()\n",
    "                print(rows)\n",
    "            except (Exception, Error) as error:\n",
    "                print(\"Error al ejecutar query:\", error)\n",
    "\n",
    "        if numero_consulta == 3:\n",
    "            try:\n",
    "                query = consulta3()\n",
    "                cursor.execute(query)\n",
    "                rows = cursor.fetchall()\n",
    "                print(rows)\n",
    "            except (Exception, Error) as error:\n",
    "                print(\"Error al ejecutar query:\", error)\n",
    "\n",
    "        if numero_consulta == 4:\n",
    "            try:\n",
    "                query = consulta4()\n",
    "                estilo = kwargs.get('estilo')\n",
    "                cursor.execute(query, {'estilo': estilo})\n",
    "                rows = cursor.fetchall()\n",
    "                print(rows)\n",
    "            except (Exception, Error) as error:\n",
    "                print(\"Error al ejecutar query:\", error)\n",
    "\n",
    "        if numero_consulta == 5:\n",
    "            try:\n",
    "                query = consulta5()\n",
    "                estilo = kwargs.get('estilo')\n",
    "                cursor.execute(query, {'estilo': estilo})\n",
    "                rows = cursor.fetchall()\n",
    "                print(rows)\n",
    "            except (Exception, Error) as error:\n",
    "                print(\"Error al ejecutar query:\", error)\n",
    "\n",
    "        if numero_consulta == 6:\n",
    "            try:\n",
    "                query = consulta6()\n",
    "                email = kwargs.get('email')\n",
    "                cursor.execute(query, {'email': email})\n",
    "                rows = cursor.fetchall()\n",
    "                print(rows)\n",
    "            except (Exception, Error) as error:\n",
    "                print(\"Error al ejecutar query:\", error)\n",
    "\n",
<<<<<<< HEAD
<<<<<<< HEAD
<<<<<<< HEAD
=======
>>>>>>> 2a668bb (10 consultas)
=======
>>>>>>> branch-lucas
    "        if numero_consulta == 7:\n",
    "            try:\n",
    "                query = consulta7()\n",
    "                cursor.execute(query)\n",
    "                rows = cursor.fetchall()\n",
    "                print(rows)\n",
    "            except (Exception, Error) as error:\n",
    "                print(\"Error al ejecutar query:\", error)\n",
    "\n",
<<<<<<< HEAD
<<<<<<< HEAD
=======
>>>>>>> 8b3dea8 (avance consultas)
=======
>>>>>>> 2a668bb (10 consultas)
=======
>>>>>>> branch-lucas
    "        if numero_consulta == 8:\n",
    "            try:\n",
    "                query = consulta8()\n",
    "                cursor.execute(query)\n",
    "                rows = cursor.fetchall()\n",
    "                print(rows)\n",
    "            except (Exception, Error) as error:\n",
    "                print(\"Error al ejecutar query:\", error)\n",
<<<<<<< HEAD
<<<<<<< HEAD
<<<<<<< HEAD
=======
>>>>>>> 2a668bb (10 consultas)
=======
>>>>>>> branch-lucas
    "        \n",
    "        if numero_consulta == 9:\n",
    "            try:\n",
    "                tipo = kwargs.get('tipo')\n",
    "                query = consulta9(tipo)\n",
    "                numero = kwargs.get('numero')\n",
    "                cursor.execute(query, {'numero': numero})\n",
    "                rows = cursor.fetchall()\n",
    "                print(rows)\n",
    "            except (Exception, Error) as error:\n",
    "                print(\"Error al ejecutar query:\", error)\n",
<<<<<<< HEAD
<<<<<<< HEAD
=======
>>>>>>> 8b3dea8 (avance consultas)
=======
>>>>>>> 2a668bb (10 consultas)
=======
>>>>>>> branch-lucas
    "\n",
    "        if numero_consulta == 10:\n",
    "            try:\n",
    "                query = consulta10()\n",
    "                alergeno = kwargs.get('alergeno')\n",
    "                cursor.execute(query, {'alergeno': '%{}%'.format(alergeno)}) #revisar si esto funciona\n",
    "                rows = cursor.fetchall()\n",
    "                print(rows)\n",
    "            except (Exception, Error) as error:\n",
    "                print(\"Error al ejecutar query:\", error)\n",
<<<<<<< HEAD
<<<<<<< HEAD
=======
    "            finally:\n",
    "                if cursor:\n",
    "                    cursor.close()\n",
    "                if conn:\n",
    "                    conn.close()\n",
>>>>>>> 5c9e5b8 (creacion Jupyter consultas)
=======
>>>>>>> 8b3dea8 (avance consultas)
=======
>>>>>>> branch-lucas
    "\n",
    "    except (Exception, Error) as error:\n",
    "        print(\"Error al conectarse al servidor:\", error)\n",
    "    finally:\n",
    "        if cursor:\n",
    "            cursor.close()\n",
    "        if conn:\n",
    "            conn.close()"
   ]
  }
 ],
 "metadata": {
  "kernelspec": {
   "display_name": "Python 3",
   "language": "python",
   "name": "python3"
  },
  "language_info": {
<<<<<<< HEAD
<<<<<<< HEAD
<<<<<<< HEAD
=======
>>>>>>> 17d5b96 (super avance cargadores)
=======
>>>>>>> branch-lucas
   "codemirror_mode": {
    "name": "ipython",
    "version": 3
   },
   "file_extension": ".py",
   "mimetype": "text/x-python",
<<<<<<< HEAD
<<<<<<< HEAD
=======
>>>>>>> branch-lucas
   "name": "python",
   "nbconvert_exporter": "python",
   "pygments_lexer": "ipython3",
   "version": "3.10.11"
<<<<<<< HEAD
=======
   "name": "python",
   "version": "3.11.3"
>>>>>>> 5c9e5b8 (creacion Jupyter consultas)
=======
   "name": "python",
   "nbconvert_exporter": "python",
   "pygments_lexer": "ipython3",
   "version": "3.10.11"
>>>>>>> 17d5b96 (super avance cargadores)
=======
>>>>>>> branch-lucas
  }
 },
 "nbformat": 4,
 "nbformat_minor": 2
}
