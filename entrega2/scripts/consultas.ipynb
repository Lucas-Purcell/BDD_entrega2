{
 "cells": [
  {
   "cell_type": "code",
   "execution_count": null,
   "metadata": {},
   "outputs": [],
   "source": [
    "import psycopg2\n",
    "from psycopg2 import sql\n",
    "from psycopg2 import Error"
   ]
  },
  {
   "cell_type": "code",
   "execution_count": null,
   "metadata": {},
   "outputs": [],
   "source": [
    "DB_HOST = 'pavlov.ing.puc.cl'\n",
    "DB_PORT = '22'\n",
    "DB_USER = 'grupo8'\n",
    "DB_PASSWORD = 'bulla8'"
   ]
  },
  {
   "cell_type": "code",
   "execution_count": null,
   "metadata": {},
   "outputs": [],
   "source": [
    "#Muestre todos los restaurantes que ofrezcan un plato específico (string) ingresado y que esté disponible\n",
    "def consulta1(): \n",
    "    query1 = \"SELECT Restaurant.nombre \\\n",
    "            FROM Restaurant, Plato \\\n",
    "            WHERE Plato.nombre = %(nombre)s AND Plato.disponibilidad = TRUE\"\n",
    "    return query1\n",
    "\n"
   ]
  },
  {
   "cell_type": "code",
   "execution_count": null,
   "metadata": {},
   "outputs": [],
   "source": [
    "def consultas(numero_consulta, **kwargs):\n",
    "    conn = None\n",
    "    cursor = None\n",
    "    \n",
    "    try:\n",
    "        # Conexión con la base de datos\n",
    "        conn = psycopg2.connect(\n",
    "            user=DB_USER,\n",
    "            password=DB_PASSWORD,\n",
    "            host=DB_HOST,\n",
    "            port=DB_PORT\n",
    "        )\n",
    "        # Crear un cursor para ejecutar consultas\n",
    "        cursor = conn.cursor()\n",
    "\n",
    "        #consulta 1\n",
    "        if numero_consulta == 1:\n",
    "            try:\n",
    "                query = consulta1()\n",
    "                nombre_plato = kwargs.get('nombre_plato')\n",
    "                cursor.execute(query, {'nombre': nombre_plato})\n",
    "                rows = cursor.fetchall()\n",
    "                print(rows)\n",
    "            except (Exception, Error) as error:\n",
    "                print(\"Error al ejecutar query:\", error)\n",
    "            finally:\n",
    "                if cursor:\n",
    "                    cursor.close()\n",
    "                if conn:\n",
    "                    conn.close()\n",
    "\n",
    "    except (Exception, Error) as error:\n",
    "        print(\"Error al conectarse al servidor:\", error)\n",
    "    finally:\n",
    "        if cursor:\n",
    "            cursor.close()\n",
    "        if conn:\n",
    "            conn.close()"
   ]
  }
 ],
 "metadata": {
  "kernelspec": {
   "display_name": "Python 3",
   "language": "python",
   "name": "python3"
  },
  "language_info": {
   "name": "python",
   "version": "3.11.3"
  }
 },
 "nbformat": 4,
 "nbformat_minor": 2
}
