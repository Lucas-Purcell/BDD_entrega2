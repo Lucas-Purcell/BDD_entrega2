{
 "cells": [
  {
   "cell_type": "code",
   "execution_count": 4,
   "metadata": {},
   "outputs": [],
   "source": [
    "import psycopg2\n",
    "from psycopg2 import sql\n",
    "from psycopg2 import Error\n",
    "DB_HOST = 'pavlov.ing.puc.cl'\n",
    "DB_PORT = '5432'\n",
    "DB_USER = 'grupo8'\n",
    "DB_PASSWORD = 'bulla8'"
   ]
  },
  {
   "cell_type": "code",
   "execution_count": 20,
   "metadata": {},
   "outputs": [
    {
     "name": "stdout",
     "output_type": "stream",
     "text": [
      "Error loading data: relation \"pedidos\" already exists\n",
      "\n"
     ]
    }
   ],
   "source": [
    "conn = None\n",
    "cursor = None\n",
    "\n",
    "table_name = \"pedidos\"\n",
    "\n",
    "try:\n",
    "    # Conexión con la base de datos\n",
    "    conn = psycopg2.connect(\n",
    "        user=DB_USER,\n",
    "        password=DB_PASSWORD,\n",
    "        host=DB_HOST,\n",
    "        port=DB_PORT\n",
    "    )\n",
    "    # Crear un cursor para ejecutar consultas\n",
    "    cursor = conn.cursor()\n",
    "\n",
    "\n",
    "    # Execute the command to create the table\n",
    "\n",
    "    \n",
    "    # Abrir CSV\n",
    "    with open('../CSV/pedidos.csv', 'r', encoding = 'ISO-8859-1') as file:\n",
    "        data = file.read().split('\\n')\n",
    "        header = data[0].split(';')\n",
    "        df = []\n",
    "\n",
    "        for line in data[1:]:\n",
    "            df.append(line.split(';'))\n",
    "    columns = \", \".join([f\"{col} TEXT\" for col in header])\n",
    "    create_table_query = f\"\"\"\n",
    "    CREATE TABLE pedidos ({header[0]} SERIAL PRIMARY KEY, {columns[1:]});\n",
    "    \"\"\"\n",
    "    cursor.execute(create_table_query)\n",
    "    conn.commit()\n",
    "        # Insertar datos en la tabla\n",
    "    insert_query = sql.SQL(\"INSERT INTO {} ({}) VALUES ({})\").format(\n",
    "        sql.Identifier(table_name),\n",
    "        sql.SQL(', ').join(map(sql.Identifier, columns)),\n",
    "        sql.SQL(', ').join(map(sql.Placeholder, columns))\n",
    "    )\n",
    "\n",
    "    for row in df(index=False):\n",
    "        data = [value for value in row]\n",
    "        cursor.execute(insert_query, data)\n",
    "    conn.commit()\n",
    "    print(\"Data loaded successfully in table {}.\".format(table_name))\n",
    "except (Exception, Error) as error:\n",
    "    print(\"Error loading data:\", error)\n",
    "finally:\n",
    "    if cursor:\n",
    "        cursor.close()\n",
    "    if conn:\n",
    "        conn.close()\n"
   ]
  },
  {
   "cell_type": "code",
   "execution_count": 19,
   "metadata": {},
   "outputs": [
    {
     "data": {
      "text/plain": [
       "'i'"
      ]
     },
     "execution_count": 19,
     "metadata": {},
     "output_type": "execute_result"
    }
   ],
   "source": [
    "columns[0]"
   ]
  },
  {
   "cell_type": "code",
   "execution_count": null,
   "metadata": {},
   "outputs": [],
   "source": []
  }
 ],
 "metadata": {
  "kernelspec": {
   "display_name": "Python 3",
   "language": "python",
   "name": "python3"
  },
  "language_info": {
   "codemirror_mode": {
    "name": "ipython",
    "version": 3
   },
   "file_extension": ".py",
   "mimetype": "text/x-python",
   "name": "python",
   "nbconvert_exporter": "python",
   "pygments_lexer": "ipython3",
   "version": "3.10.11"
  }
 },
 "nbformat": 4,
 "nbformat_minor": 2
}
