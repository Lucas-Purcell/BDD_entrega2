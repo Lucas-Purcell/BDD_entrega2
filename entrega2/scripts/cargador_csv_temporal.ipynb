{
 "cells": [
  {
   "cell_type": "code",
   "execution_count": 42,
   "metadata": {},
   "outputs": [],
   "source": [
    "import psycopg2\n",
    "from psycopg2 import sql\n",
    "from psycopg2 import Error\n",
    "DB_HOST = 'pavlov.ing.puc.cl'\n",
    "DB_PORT = '5432'\n",
    "DB_USER = 'grupo8'\n",
    "DB_PASSWORD = 'bulla8'\n",
    "DB_NAME = 'grupo8e2'"
   ]
  },
  {
   "cell_type": "code",
   "execution_count": 38,
   "metadata": {},
   "outputs": [
    {
     "name": "stdout",
     "output_type": "stream",
     "text": [
      "Error loading data: invalid input syntax for type integer: \"DCCRestaurant\"\n",
      "LINE 1: INSERT INTO restaurant VALUES ('DCCRestaurant', 'TRUE', 'fas...\n",
      "                                       ^\n",
      "\n"
     ]
    }
   ],
   "source": [
    "conn = None\n",
    "cursor = None\n",
    "\n",
    "table_name = \"restaurant\"\n",
    "\n",
    "try:\n",
    "    # Conexión con la base de datos\n",
    "    conn = psycopg2.connect(\n",
    "        user=DB_USER,\n",
    "        password=DB_PASSWORD,\n",
    "        host=DB_HOST,\n",
    "        port=DB_PORT,\n",
    "        dbname=DB_NAME\n",
    "    )\n",
    "    # Crear un cursor para ejecutar consultas\n",
    "    cursor = conn.cursor()\n",
    "\n",
    "    # Abrir CSV\n",
    "    with open('../CSV/restaurantes2.csv', 'r', encoding = 'ISO-8859-1') as file:\n",
    "        data = file.read().split('\\n')\n",
    "        header = data[0].split(',')\n",
    "        df = []\n",
    "        for line in data[1:]:\n",
    "            df.append(line.split(','))\n",
    "        # Insertar datos en la tabla\n",
    "    \n",
    "    insert_query = f\"INSERT INTO {table_name} VALUES ({', '.join(['%s']*len(row))})\"\n",
    "    \n",
    "    for row in df:\n",
    "        cursor.execute(insert_query, row)\n",
    "        \n",
    "    conn.commit()\n",
    "    print(\"Data loaded successfully in table {}.\".format(table_name))\n",
    "except (Exception, Error) as error:\n",
    "    print(\"Error loading data:\", error)\n",
    "finally:\n",
    "    if cursor:\n",
    "        cursor.close()\n",
    "    if conn:\n",
    "        conn.close()\n"
   ]
  },
  {
   "cell_type": "code",
   "execution_count": 45,
   "metadata": {},
   "outputs": [],
   "source": [
    "# Conexión con la base de datos\n",
    "conn = psycopg2.connect(\n",
    "    user=DB_USER,\n",
    "    password=DB_PASSWORD,\n",
    "    host=DB_HOST,\n",
    "    port=DB_PORT,\n",
    "    dbname=DB_NAME\n",
    ")\n",
    "# Crear un cursor para ejecutar consultas\n",
    "cursor = conn.cursor()\n",
    "cursor.execute(\"INSERT INTO restaurant VALUES (1,'DCCRestaurant',TRUE,'fast food',10000,'Las Parcelas','Av. Las Parcelas 1234, Macul, Santiago','56994152387', 'Macul')\")\n",
    "\n"
   ]
  },
  {
   "cell_type": "code",
   "execution_count": null,
   "metadata": {},
   "outputs": [],
   "source": []
  }
 ],
 "metadata": {
  "kernelspec": {
   "display_name": "Python 3",
   "language": "python",
   "name": "python3"
  },
  "language_info": {
   "codemirror_mode": {
    "name": "ipython",
    "version": 3
   },
   "file_extension": ".py",
   "mimetype": "text/x-python",
   "name": "python",
   "nbconvert_exporter": "python",
   "pygments_lexer": "ipython3",
   "version": "3.10.11"
  }
 },
 "nbformat": 4,
 "nbformat_minor": 2
}
