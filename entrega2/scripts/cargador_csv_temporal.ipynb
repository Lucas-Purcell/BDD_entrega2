{
 "cells": [
  {
   "cell_type": "code",
   "execution_count": 112,
   "metadata": {},
   "outputs": [],
   "source": [
    "import psycopg2\n",
    "from psycopg2 import sql\n",
    "from psycopg2 import Error\n",
    "DB_HOST = 'pavlov.ing.puc.cl'\n",
    "DB_PORT = '5432'\n",
    "DB_USER = 'grupo8'\n",
    "DB_PASSWORD = 'bulla8'\n",
    "DB_NAME = 'grupo8e2'"
   ]
  },
  {
   "cell_type": "code",
   "execution_count": 113,
   "metadata": {},
   "outputs": [
    {
     "name": "stdout",
     "output_type": "stream",
     "text": [
      "Data loaded successfully in table restaurant.\n"
     ]
    }
   ],
   "source": [
    "conn = None\n",
    "cursor = None\n",
    "\n",
    "table_name = \"restaurant\"\n",
    "\n",
    "try:\n",
    "    # Conexión con la base de datos\n",
    "    conn = psycopg2.connect(\n",
    "        user=DB_USER,\n",
    "        password=DB_PASSWORD,\n",
    "        host=DB_HOST,\n",
    "        port=DB_PORT,\n",
    "        dbname=DB_NAME\n",
    "    )\n",
    "    # Crear un cursor para ejecutar consultas\n",
    "    cursor = conn.cursor()\n",
    "\n",
    "    # Abrir CSV\n",
    "    with open('../CSV/restaurantes2.csv', 'r', encoding = 'ISO-8859-1') as file:\n",
    "        data = file.read().split('\\n')\n",
    "        header = ','.join(data[0].split(';'))\n",
    "        df = []\n",
    "        for line in data[1:]:\n",
    "            if len(line.split(';')[-2]) != 11:\n",
    "                clean = line.split(';')[:-2] + [line.split(';')[-2][:2] + line.split(';')[-2][3:]] + line.split(';')[-1:]\n",
    "                df.append(','.join([f\"'{s}'\" for s in clean]))\n",
    "            else:\n",
    "                df.append(','.join([f\"'{s}'\" for s in line.split(';')]))\n",
    "        # Insertar datos en la tabla\n",
    "    \n",
    "    \n",
    "    \n",
    "    for row in df:\n",
    "        insert_query = f\"INSERT INTO {table_name} ({header}) VALUES ({row})\"\n",
    "        cursor.execute(insert_query)\n",
    "\n",
    "    conn.commit()\n",
    "    print(\"Data loaded successfully in table {}.\".format(table_name))\n",
    "except (Exception, Error) as error:\n",
    "    print(\"Error loading data:\", error)\n",
    "finally:\n",
    "    if cursor:\n",
    "        cursor.close()\n",
    "    if conn:\n",
    "        conn.close()\n"
   ]
  },
  {
   "cell_type": "code",
   "execution_count": 114,
   "metadata": {},
   "outputs": [
    {
     "name": "stdout",
     "output_type": "stream",
     "text": [
      "Data loaded successfully in table comuna.\n"
     ]
    }
   ],
   "source": [
    "conn = None\n",
    "cursor = None\n",
    "\n",
    "table_name = \"comuna\"\n",
    "\n",
    "try:\n",
    "    # Conexión con la base de datos\n",
    "    conn = psycopg2.connect(\n",
    "        user=DB_USER,\n",
    "        password=DB_PASSWORD,\n",
    "        host=DB_HOST,\n",
    "        port=DB_PORT,\n",
    "        dbname=DB_NAME\n",
    "    )\n",
    "    # Crear un cursor para ejecutar consultas\n",
    "    cursor = conn.cursor()\n",
    "\n",
    "    # Abrir CSV\n",
    "    with open('../CSV/comuna2.csv', 'r', encoding = 'ISO-8859-1') as file:\n",
    "        data = file.read().split('\\n')\n",
    "        header = ','.join(data[0].replace(\"'\", \"\").split(';'))\n",
    "        df = []\n",
    "        for line in data[1:]:\n",
    "\n",
    "            df.append(','.join(line.split(';')))\n",
    "        # Insertar datos en la tabla\n",
    "    \n",
    "    \n",
    "    \n",
    "    for row in df:\n",
    "        insert_query = f\"INSERT INTO {table_name} ({header}) VALUES ({row})\"\n",
    "        cursor.execute(insert_query)\n",
    "\n",
    "    conn.commit()\n",
    "    print(\"Data loaded successfully in table {}.\".format(table_name))\n",
    "except (Exception, Error) as error:\n",
    "    print(\"Error loading data:\", error)\n",
    "finally:\n",
    "    if cursor:\n",
    "        cursor.close()\n",
    "    if conn:\n",
    "        conn.close()"
   ]
  },
  {
   "cell_type": "code",
   "execution_count": 119,
   "metadata": {},
   "outputs": [
    {
     "name": "stdout",
     "output_type": "stream",
     "text": [
      "(1,)\n",
      "(6,)\n",
      "(7,)\n",
      "Error loading data: duplicate key value violates unique constraint \"plato_pkey\"\n",
      "DETAIL:  Key (id)=(1) already exists.\n",
      "\n"
     ]
    }
   ],
   "source": [
    "conn = None\n",
    "cursor = None\n",
    "\n",
    "table_name = \"plato\"\n",
    "\n",
    "try:\n",
    "    # Conexión con la base de datos\n",
    "    conn = psycopg2.connect(\n",
    "        user=DB_USER,\n",
    "        password=DB_PASSWORD,\n",
    "        host=DB_HOST,\n",
    "        port=DB_PORT,\n",
    "        dbname=DB_NAME\n",
    "    )\n",
    "    # Crear un cursor para ejecutar consultas\n",
    "    cursor = conn.cursor()\n",
    "\n",
    "    # Abrir CSV\n",
    "    with open('../CSV/platos.csv', 'r', encoding = 'ISO-8859-1') as file:\n",
    "        data = file.read().split('\\n')\n",
    "        header = ','.join(data[0].split(';')[:-3])\n",
    "        df = []\n",
    "        fk = []\n",
    "        for line in data[1:]:\n",
    "            df.append(','.join([f\"'{s}'\" for s in line.split(';')[:-3]]))\n",
    "            fk.append(f\"'{line.split(';')[-3]}'\")\n",
    "        # Insertar datos en la tabla\n",
    "    \n",
    "    \n",
    "    for row, r in zip(df, fk):\n",
    "        cursor.execute(f\"SELECT id FROM Restaurant WHERE nombre = {r}\")\n",
    "        restaurant_ids = cursor.fetchall()\n",
    "        for r_id in restaurant_ids:\n",
    "            print(r_id)\n",
    "            insert_query = f\"INSERT INTO {table_name} ({header},restaurant_id) VALUES ({row}, {r_id[0]})\"\n",
    "            cursor.execute(insert_query)\n",
    "\n",
    "    conn.commit()\n",
    "    print(\"Data loaded successfully in table {}.\".format(table_name))\n",
    "except (Exception, Error) as error:\n",
    "    print(\"Error loading data:\", error)\n",
    "finally:\n",
    "    if cursor:\n",
    "        cursor.close()\n",
    "    if conn:\n",
    "        conn.close()"
   ]
  },
  {
   "cell_type": "code",
   "execution_count": 67,
   "metadata": {},
   "outputs": [],
   "source": [
    "# reset serial\n",
    "\n",
    "# Conexión con la base de datos\n",
    "conn = psycopg2.connect(\n",
    "    user=DB_USER,\n",
    "    password=DB_PASSWORD,\n",
    "    host=DB_HOST,\n",
    "    port=DB_PORT,\n",
    "    dbname=DB_NAME\n",
    ")\n",
    "# Crear un cursor para ejecutar consultas\n",
    "cursor = conn.cursor()\n",
    "cursor.execute(\"ALTER SEQUENCE restaurant_id_seq RESTART WITH 1\")\n",
    "conn.commit()\n"
   ]
  }
 ],
 "metadata": {
  "kernelspec": {
   "display_name": "Python 3",
   "language": "python",
   "name": "python3"
  },
  "language_info": {
   "codemirror_mode": {
    "name": "ipython",
    "version": 3
   },
   "file_extension": ".py",
   "mimetype": "text/x-python",
   "name": "python",
   "nbconvert_exporter": "python",
   "pygments_lexer": "ipython3",
   "version": "3.10.11"
  }
 },
 "nbformat": 4,
 "nbformat_minor": 2
}
