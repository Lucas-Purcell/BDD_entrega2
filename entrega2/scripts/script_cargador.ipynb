{
 "cells": [
  {
   "cell_type": "code",
   "execution_count": 2,
   "metadata": {},
   "outputs": [],
   "source": [
    "import pandas as pd\n",
    "import psycopg2\n",
    "from psycopg2 import sql\n",
    "from psycopg2 import Error\n"
   ]
  },
  {
   "cell_type": "code",
   "execution_count": null,
   "metadata": {},
   "outputs": [],
   "source": [
    "DB_HOST = 'pavlov.ing.puc.cl'\n",
    "DB_PORT = '22'\n",
    "DB_USER = 'grupo8'\n",
    "DB_PASSWORD = 'bulla8'"
   ]
  },
  {
   "cell_type": "code",
   "execution_count": 4,
   "metadata": {},
   "outputs": [],
   "source": [
    "# Función para cargar datos desde un archivo CSV y cargarlos en la base de datos\n",
    "def cargar_datos_desde_csv(ruta_csv, tabla_destino):\n",
    "    try:\n",
    "        # Conectarse a la base de datos\n",
    "        conn = psycopg2.connect(\n",
    "            user=DB_USER,\n",
    "            password=DB_PASSWORD,\n",
    "            host=DB_HOST,\n",
    "            port=DB_PORT\n",
    "        )\n",
    "\n",
    "        # Crear un cursor para ejecutar operaciones SQL\n",
    "        cursor = conn.cursor()\n",
    "\n",
    "        # Cargar el archivo CSV en un DataFrame de Pandas\n",
    "        df = pd.read_csv(ruta_csv)\n",
    "\n",
    "        # Crear la sentencia SQL para insertar los datos\n",
    "        insert_query = sql.SQL(\"INSERT INTO {} ({}) VALUES ({})\").format(\n",
    "            sql.Identifier(tabla_destino),\n",
    "            sql.SQL(', ').join(map(sql.Identifier, df.columns)),\n",
    "            sql.SQL(', ').join(map(sql.Placeholder, df.columns))\n",
    "        )\n",
    "\n",
    "        # Iterar sobre cada fila del DataFrame e insertarla en la base de datos\n",
    "        for row in df.itertuples(index=False):\n",
    "            data = [value for value in row]\n",
    "            cursor.execute(insert_query, data)\n",
    "\n",
    "        # Confirmar la transacción y cerrar la conexión\n",
    "        conn.commit()\n",
    "        print(\"Datos cargados exitosamente en la tabla {}.\".format(tabla_destino))\n",
    "\n",
    "    except (Exception, Error) as error:\n",
    "        print(\"Error al cargar datos:\", error)\n",
    "\n",
    "    finally:\n",
    "        # Cerrar el cursor y la conexión\n",
    "        if cursor:\n",
    "            cursor.close()\n",
    "        if conn:\n",
    "            conn.close()\n",
    "\n"
   ]
  },
  {
   "cell_type": "code",
   "execution_count": null,
   "metadata": {},
   "outputs": [],
   "source": [
    "\n",
    "\n",
    "def cargar_datos(csv_path, table_name):\n",
    "    conn = None\n",
    "    cursor = None\n",
    "    \n",
    "    try:\n",
    "        conn = psycopg2.connect(\n",
    "            user=DB_USER,\n",
    "            password=DB_PASSWORD,\n",
    "            host=DB_HOST,\n",
    "            port=DB_PORT\n",
    "        )\n",
    "        cursor = conn.cursor()\n",
    "        df = pd.read_csv(csv_path)\n",
    "        \n",
    "            \n",
    "        insert_query = sql.SQL(\"INSERT INTO {} ({}) VALUES ({})\").format(\n",
    "            sql.Identifier(table_name),\n",
    "            sql.SQL(', ').join(map(sql.Identifier, df.columns)),\n",
    "            sql.SQL(', ').join(map(sql.Placeholder, df.columns))\n",
    "        )\n",
    "        for row in df.itertuples(index=False):\n",
    "            data = [value for value in row]\n",
    "            if not (1 <= row[1] <= 5 and 1 <= row[2] <= 5) and type(row[0]) != int:\n",
    "                print(\"Error: invalid values in CSV in row {}\".format(row))\n",
    "            else:\n",
    "                cursor.execute(insert_query, data)\n",
    "        conn.commit()\n",
    "        print(\"Data loaded successfully in table {}.\".format(table_name))\n",
    "    except (Exception, Error) as error:\n",
    "        print(\"Error loading data:\", error)\n",
    "    finally:\n",
    "        if cursor:\n",
    "            cursor.close()\n",
    "        if conn:\n",
    "            conn.close()\n",
    "\n",
    "# Ejemplo de uso\n",
    "if __name__ == \"__main__\":\n",
    "    # Ruta al archivo CSV que deseas cargar\n",
    "    ruta_csv = 'ruta/a/tu/archivo.csv'\n",
    "\n",
    "    # Nombre de la tabla PostgreSQL donde se insertarán los datos\n",
    "    tabla_destino = 'nombre_de_tu_tabla'\n",
    "\n",
    "    # Llamar a la función para cargar los datos desde el CSV a la base de datos\n",
    "    cargar_datos_desde_csv(ruta_csv, tabla_destino)"
   ]
  },
  {
   "cell_type": "code",
   "execution_count": 50,
   "metadata": {},
   "outputs": [
    {
     "ename": "NameError",
     "evalue": "name 'lol' is not defined",
     "output_type": "error",
     "traceback": [
      "\u001b[0;31m---------------------------------------------------------------------------\u001b[0m",
      "\u001b[0;31mNameError\u001b[0m                                 Traceback (most recent call last)",
      "Cell \u001b[0;32mIn[50], line 2\u001b[0m\n\u001b[1;32m      1\u001b[0m \u001b[38;5;28;01mtry\u001b[39;00m:\n\u001b[0;32m----> 2\u001b[0m     \u001b[43merror\u001b[49m\n\u001b[1;32m      3\u001b[0m     lol \u001b[38;5;241m=\u001b[39m \u001b[38;5;241m0\u001b[39m\n",
      "\u001b[0;31mNameError\u001b[0m: name 'error' is not defined",
      "\nDuring handling of the above exception, another exception occurred:\n",
      "\u001b[0;31mNameError\u001b[0m                                 Traceback (most recent call last)",
      "Cell \u001b[0;32mIn[50], line 5\u001b[0m\n\u001b[1;32m      3\u001b[0m     lol \u001b[38;5;241m=\u001b[39m \u001b[38;5;241m0\u001b[39m\n\u001b[1;32m      4\u001b[0m \u001b[38;5;28;01mexcept\u001b[39;00m:\n\u001b[0;32m----> 5\u001b[0m     \u001b[38;5;28mprint\u001b[39m(\u001b[43mlol\u001b[49m)\n",
      "\u001b[0;31mNameError\u001b[0m: name 'lol' is not defined"
     ]
    }
   ],
   "source": [
    "try:\n",
    "    error\n",
    "    lol = 0\n",
    "except:\n",
    "    print(lol)"
   ]
  },
  {
   "cell_type": "code",
   "execution_count": null,
   "metadata": {},
   "outputs": [],
   "source": []
  }
 ],
 "metadata": {
  "kernelspec": {
   "display_name": "Python 3",
   "language": "python",
   "name": "python3"
  },
  "language_info": {
   "codemirror_mode": {
    "name": "ipython",
    "version": 3
   },
   "file_extension": ".py",
   "mimetype": "text/x-python",
   "name": "python",
   "nbconvert_exporter": "python",
   "pygments_lexer": "ipython3",
   "version": "3.10.11"
  }
 },
 "nbformat": 4,
 "nbformat_minor": 2
}
